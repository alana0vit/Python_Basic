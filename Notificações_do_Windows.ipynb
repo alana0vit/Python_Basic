{
 "cells": [
  {
   "cell_type": "code",
   "execution_count": 10,
   "metadata": {},
   "outputs": [],
   "source": [
    "# importando apenas as funções Notification e audio pertecentes a biblioteca winotify\n",
    "from winotify import Notification, audio"
   ]
  },
  {
   "cell_type": "code",
   "execution_count": 11,
   "metadata": {},
   "outputs": [],
   "source": [
    "# Criando a notificação, e passando os parâmetros: nome da notificação, o título da notificação, a mensagem que a notificação terá (opcional), a duração (long ou short),\n",
    "#                                                  um icone (opcional e em png. Sempre declarada pelo caminho dentro do computador e usar o 'r' antes do caminho, pois\n",
    "#                                                  o Python entende o '\\' como caractere especial quando usando com certas letras)\n",
    "notificacao = Notification(app_id='teste_notificacao', title='Notificação de Automação',\n",
    "                           msg='Testando como funciona as notificações em Python',\n",
    "                           duration='short', icon=r'C:\\Users\\dope0\\Downloads\\Minhas_Att_Python\\Notificações_com_Python\\temp_logo_testing.png')\n",
    "\n",
    "# Atribuindo Audio (opcional), da-se os parâmetros: audio.(opções de alarme) e o loop (se será ou não repetido o som da notificação)\n",
    "notificacao.set_audio(audio.LoopingAlarm, loop=False)\n",
    "\n",
    "# Criando um botão de ação, pode-se por até 5 botões. Tem como parâmetro: o nome do botão e o link/caminho da ação (um site, um arquivo, uma função)\n",
    "notificacao.add_actions(label='Escute Música', launch='https://www.youtube.com/')\n",
    "\n",
    "# Função que exibe a notificação\n",
    "notificacao.show()"
   ]
  }
 ],
 "metadata": {
  "kernelspec": {
   "display_name": "Python 3",
   "language": "python",
   "name": "python3"
  },
  "language_info": {
   "codemirror_mode": {
    "name": "ipython",
    "version": 3
   },
   "file_extension": ".py",
   "mimetype": "text/x-python",
   "name": "python",
   "nbconvert_exporter": "python",
   "pygments_lexer": "ipython3",
   "version": "3.12.0"
  }
 },
 "nbformat": 4,
 "nbformat_minor": 2
}
